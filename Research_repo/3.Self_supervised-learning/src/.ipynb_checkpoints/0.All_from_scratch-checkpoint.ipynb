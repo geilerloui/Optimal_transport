{
 "cells": [
  {
   "cell_type": "code",
   "execution_count": 20,
   "id": "b4f8d26c",
   "metadata": {},
   "outputs": [],
   "source": [
    "from datetime import datetime\n",
    "\n",
    "import pandas as pd\n",
    "from sklearn.metrics import roc_auc_score\n",
    "from tqdm import tqdm\n",
    "import torch\n",
    "from torch.utils.data import Dataset, DataLoader, random_split\n",
    "\n",
    "from utils import *\n",
    "from nn_architecture_test import Net\n",
    "\n",
    "class TabularDataset(Dataset):\n",
    "    \"\"\"\n",
    "    Preprocessing of categorical variables by dummy\n",
    "    Regarding the continuous variable the standardization \n",
    "    has already been done.\n",
    "    \"\"\"\n",
    "    \n",
    "    def __init__(self, csv_file):\n",
    "        self.df_nn = pd.read_csv(csv_file)\n",
    "        self.df_nn.drop('id', axis=1, inplace=True)\n",
    "\n",
    "        self.df_nn = pd.get_dummies(self.df_nn)\n",
    "        \n",
    "        self.X = self.df_nn.drop(\"target\", axis=1)\n",
    "        self.Y = self.df_nn.loc[:, \"target\"]\n",
    "        \n",
    "    def __len__(self):\n",
    "        return len(self.df_nn)\n",
    "    \n",
    "    def __getitem__(self, idx):\n",
    "        return self.X.iloc[idx].values, self.Y.iloc[idx]\n",
    "    \n",
    "csv_file = \"../dataset/train.csv\"\n",
    "\n",
    "# Load dataset\n",
    "dataset = TabularDataset(csv_file)\n",
    "\n",
    "# Split into training and test\n",
    "train_size = int(0.8 * len(dataset))\n",
    "test_size = len(dataset) - train_size\n",
    "trainset, testset = random_split(dataset, [train_size, test_size])\n",
    "\n",
    "# Dataloaders\n",
    "train_loader = DataLoader(trainset, batch_size=200, shuffle=True)\n",
    "test_loader = DataLoader(testset, batch_size=200, shuffle=False)"
   ]
  },
  {
   "cell_type": "code",
   "execution_count": 22,
   "id": "69137eea",
   "metadata": {},
   "outputs": [
    {
     "name": "stdout",
     "output_type": "stream",
     "text": [
      "Net(\n",
      "  (fc1): Linear(in_features=634, out_features=100, bias=True)\n",
      "  (fc2): Linear(in_features=100, out_features=40, bias=True)\n",
      "  (fc3): Linear(in_features=40, out_features=1, bias=True)\n",
      "  (bn1): BatchNorm1d(100, eps=1e-05, momentum=0.1, affine=True, track_running_stats=True)\n",
      "  (bn2): BatchNorm1d(40, eps=1e-05, momentum=0.1, affine=True, track_running_stats=True)\n",
      "  (dropout): Dropout(p=0.25, inplace=False)\n",
      "  (relu): ReLU()\n",
      ")\n"
     ]
    },
    {
     "name": "stderr",
     "output_type": "stream",
     "text": [
      " 20%|████████████████████████████████▊                                                                                                                                   | 1/5 [01:38<06:35, 98.90s/it]"
     ]
    },
    {
     "name": "stdout",
     "output_type": "stream",
     "text": [
      "Epoch 000: | Loss: 0.36497 | AUC: 0.883\n"
     ]
    },
    {
     "name": "stderr",
     "output_type": "stream",
     "text": [
      "\r",
      " 40%|█████████████████████████████████████████████████████████████████▏                                                                                                 | 2/5 [03:20<05:01, 100.60s/it]"
     ]
    },
    {
     "name": "stdout",
     "output_type": "stream",
     "text": [
      "Epoch 001: | Loss: 0.35568 | AUC: 0.889\n"
     ]
    },
    {
     "name": "stderr",
     "output_type": "stream",
     "text": [
      "\r",
      " 60%|█████████████████████████████████████████████████████████████████████████████████████████████████▊                                                                 | 3/5 [05:11<03:30, 105.11s/it]"
     ]
    },
    {
     "name": "stdout",
     "output_type": "stream",
     "text": [
      "Epoch 002: | Loss: 0.35207 | AUC: 0.892\n"
     ]
    },
    {
     "name": "stderr",
     "output_type": "stream",
     "text": [
      "\r",
      " 80%|██████████████████████████████████████████████████████████████████████████████████████████████████████████████████████████████████▍                                | 4/5 [06:56<01:45, 105.00s/it]"
     ]
    },
    {
     "name": "stdout",
     "output_type": "stream",
     "text": [
      "Epoch 003: | Loss: 0.34709 | AUC: 0.895\n"
     ]
    },
    {
     "name": "stderr",
     "output_type": "stream",
     "text": [
      "100%|███████████████████████████████████████████████████████████████████████████████████████████████████████████████████████████████████████████████████████████████████| 5/5 [08:35<00:00, 103.13s/it]"
     ]
    },
    {
     "name": "stdout",
     "output_type": "stream",
     "text": [
      "Epoch 004: | Loss: 0.34323 | AUC: 0.898\n"
     ]
    },
    {
     "name": "stderr",
     "output_type": "stream",
     "text": [
      "\n"
     ]
    }
   ],
   "source": [
    "nb_clust = 1\n",
    "\n",
    "# -1 cause we remove the target\n",
    "net = Net(634, nb_clust)\n",
    "print(net)\n",
    "\n",
    "max_epochs = 5\n",
    "#loss_fct = nn.CrossEntropyLoss()\n",
    "loss_fct = nn.BCEWithLogitsLoss()\n",
    "l_loss = list()\n",
    "l_loss_test = list()\n",
    "l_roc_train = list()\n",
    "l_roc_test = list()\n",
    "\n",
    "optim = opt.Adam(net.parameters(), lr=0.01)\n",
    "\n",
    "\n",
    "for epoch in tqdm(range(max_epochs)):\n",
    "    t0 = datetime.now()\n",
    "    net.train()\n",
    "    epoch_loss = 0\n",
    "    epoch_auc = 0\n",
    "    for batch, (x, y) in enumerate(train_loader):\n",
    "        \n",
    "        optim.zero_grad()\n",
    "        \n",
    "        # Predict soft-targets and embeddings\n",
    "        output = net(x, 1)\n",
    "        \n",
    "        loss = loss_fct(output.float(), y.reshape(len(y),1).float())\n",
    "        auc = roc_auc_score(y.reshape(len(y),1).detach().numpy(), torch.sigmoid(output.float()).detach().numpy())\n",
    "        loss.backward()\n",
    "        \n",
    "        optim.step()\n",
    "        \n",
    "        #l_loss.append(loss.item())\n",
    "        #l_roc_train.append(roc_auc_score(y.detach().numpy(), torch.sigmoid(output).detach().numpy()))\n",
    "        epoch_loss += loss.item()\n",
    "        epoch_auc += auc\n",
    "        \n",
    "    print(f'Epoch {epoch+0:03}: | Loss: {epoch_loss/len(train_loader):.5f} | AUC: {epoch_auc/len(train_loader):.3f}')        \n",
    "        "
   ]
  },
  {
   "cell_type": "code",
   "execution_count": 26,
   "id": "4170ac13",
   "metadata": {},
   "outputs": [],
   "source": [
    "\n",
    "with torch.no_grad():\n",
    "    net.eval()\n",
    "    epoch_loss = 0\n",
    "    epoch_auc = 0\n",
    "    for batch, (x, y) in enumerate(test_loader):\n",
    "        output = net(x, 1)\n",
    "        \n",
    "        #l_roc_test.append(roc_auc_score(y.detach().numpy(), torch.sigmoid(output).detach().numpy()))\n",
    "        \n",
    "        loss = loss_fct(output.float(), y.reshape(len(y),1).float())\n",
    "        auc = roc_auc_score(y.reshape(len(y),1).detach().numpy(), torch.sigmoid(output.float()).detach().numpy())\n",
    "        \n",
    "        epoch_loss += loss.item()\n",
    "        epoch_auc += auc\n",
    "        \n",
    "print(f'Epoch {epoch+0:03}: | Loss: {epoch_loss/len(train_loader):.5f} | AUC: {epoch_auc/len(train_loader):.3f}')        \n"
   ]
  },
  {
   "cell_type": "code",
   "execution_count": 27,
   "id": "6851ec20",
   "metadata": {},
   "outputs": [
    {
     "name": "stdout",
     "output_type": "stream",
     "text": [
      "Epoch 004: | Loss: 0.08884 | AUC: 0.222\n"
     ]
    }
   ],
   "source": [
    "print(f'Epoch {epoch+0:03}: | Loss: {epoch_loss/len(train_loader):.5f} | AUC: {epoch_auc/len(train_loader):.3f}')        \n"
   ]
  },
  {
   "cell_type": "code",
   "execution_count": null,
   "id": "87147569",
   "metadata": {},
   "outputs": [],
   "source": []
  }
 ],
 "metadata": {
  "kernelspec": {
   "display_name": "Python 3 (ipykernel)",
   "language": "python",
   "name": "python3"
  },
  "language_info": {
   "codemirror_mode": {
    "name": "ipython",
    "version": 3
   },
   "file_extension": ".py",
   "mimetype": "text/x-python",
   "name": "python",
   "nbconvert_exporter": "python",
   "pygments_lexer": "ipython3",
   "version": "3.8.8"
  }
 },
 "nbformat": 4,
 "nbformat_minor": 5
}
