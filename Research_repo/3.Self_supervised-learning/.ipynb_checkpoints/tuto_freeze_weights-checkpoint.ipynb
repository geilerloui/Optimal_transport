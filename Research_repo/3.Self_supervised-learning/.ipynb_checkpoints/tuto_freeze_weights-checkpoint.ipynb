{
 "cells": [
  {
   "cell_type": "code",
   "execution_count": 2,
   "id": "030942b4",
   "metadata": {},
   "outputs": [],
   "source": [
    "import torch.nn as nn\n",
    "from torch.autograd import Variable\n",
    "import torch.optim as optim\n",
    "\n",
    "class Net(nn.Module):\n",
    "    def __init__(self):\n",
    "        super().__init__()\n",
    "        self.fc1 = nn.Linear(2, 4)\n",
    "        self.relu1 = nn.ReLU()\n",
    "        #self.dout = nn.Dropout(0.2)\n",
    "        self.fc2 = nn.Linear(4, 3)\n",
    "        self.relu2 = nn.ReLU(1)\n",
    "        self.out = nn.Linear(3, 1)\n",
    "        self.out_act = nn.Sigmoid()\n",
    "        \n",
    "    def forward(self, inputs):\n",
    "        a1 = self.fc1(inputs)\n",
    "        h1 = self.relu1(a1)\n",
    "        a2 = self.fc2(h1)\n",
    "        h2 = self.relu2(a2)\n",
    "        a3 = self.out(h2)\n",
    "        y = self.out_act(a3)\n",
    "        return y"
   ]
  },
  {
   "cell_type": "code",
   "execution_count": 3,
   "id": "eb413cf2",
   "metadata": {},
   "outputs": [
    {
     "name": "stdout",
     "output_type": "stream",
     "text": [
      "Parameter containing:\n",
      "tensor([[-0.2249,  0.5759],\n",
      "        [ 0.4148,  0.4126],\n",
      "        [ 0.3939,  0.3192],\n",
      "        [-0.0072, -0.3396]], requires_grad=True)\n",
      "Parameter containing:\n",
      "tensor([ 0.4758,  0.2861,  0.6777, -0.4127], requires_grad=True)\n",
      "Parameter containing:\n",
      "tensor([[-0.1068, -0.0981,  0.1543,  0.3864],\n",
      "        [ 0.1319, -0.2243, -0.0253,  0.3030],\n",
      "        [ 0.4892, -0.2366, -0.3212, -0.4371]], requires_grad=True)\n",
      "Parameter containing:\n",
      "tensor([ 0.0378, -0.4122,  0.3049], requires_grad=True)\n",
      "Parameter containing:\n",
      "tensor([[-0.5143,  0.2256,  0.0253]], requires_grad=True)\n",
      "Parameter containing:\n",
      "tensor([-0.4425], requires_grad=True)\n"
     ]
    }
   ],
   "source": [
    "net = Net()\n",
    "for para in net.parameters():\n",
    "    print(para)"
   ]
  },
  {
   "cell_type": "code",
   "execution_count": 4,
   "id": "999bea7a",
   "metadata": {},
   "outputs": [
    {
     "name": "stdout",
     "output_type": "stream",
     "text": [
      "Parameter containing:\n",
      "tensor([[-0.2249,  0.5759],\n",
      "        [ 0.4148,  0.4126],\n",
      "        [ 0.3939,  0.3192],\n",
      "        [-0.0072, -0.3396]])\n",
      "Parameter containing:\n",
      "tensor([ 0.4758,  0.2861,  0.6777, -0.4127])\n",
      "Parameter containing:\n",
      "tensor([[-0.1068, -0.0981,  0.1543,  0.3864],\n",
      "        [ 0.1319, -0.2243, -0.0253,  0.3030],\n",
      "        [ 0.4892, -0.2366, -0.3212, -0.4371]])\n",
      "Parameter containing:\n",
      "tensor([ 0.0378, -0.4122,  0.3049])\n",
      "Parameter containing:\n",
      "tensor([[-0.5143,  0.2256,  0.0253]])\n",
      "Parameter containing:\n",
      "tensor([-0.4425])\n"
     ]
    }
   ],
   "source": [
    "for para in net.parameters():\n",
    "    para.requires_grad = False\n",
    "    print(para)"
   ]
  },
  {
   "cell_type": "code",
   "execution_count": 6,
   "id": "b7063674",
   "metadata": {},
   "outputs": [
    {
     "name": "stdout",
     "output_type": "stream",
     "text": [
      "Parameter containing:\n",
      "tensor([[-0.2249,  0.5759],\n",
      "        [ 0.4148,  0.4126],\n",
      "        [ 0.3939,  0.3192],\n",
      "        [-0.0072, -0.3396]], requires_grad=True)\n",
      "Parameter containing:\n",
      "tensor([ 0.4758,  0.2861,  0.6777, -0.4127], requires_grad=True)\n",
      "Parameter containing:\n",
      "tensor([[-0.1068, -0.0981,  0.1543,  0.3864],\n",
      "        [ 0.1319, -0.2243, -0.0253,  0.3030],\n",
      "        [ 0.4892, -0.2366, -0.3212, -0.4371]], requires_grad=True)\n",
      "Parameter containing:\n",
      "tensor([ 0.0378, -0.4122,  0.3049], requires_grad=True)\n",
      "Parameter containing:\n",
      "tensor([[-0.5143,  0.2256,  0.0253]], requires_grad=True)\n",
      "Parameter containing:\n",
      "tensor([-0.4425], requires_grad=True)\n"
     ]
    }
   ],
   "source": [
    "for para in net.parameters():\n",
    "    para.requires_grad = True\n",
    "    print(para)"
   ]
  },
  {
   "cell_type": "markdown",
   "id": "4d557b26",
   "metadata": {},
   "source": [
    "### Freeze part of the parameter"
   ]
  },
  {
   "cell_type": "code",
   "execution_count": 7,
   "id": "74839ecc",
   "metadata": {},
   "outputs": [
    {
     "data": {
      "text/plain": [
       "odict_keys(['fc1.weight', 'fc1.bias', 'fc2.weight', 'fc2.bias', 'out.weight', 'out.bias'])"
      ]
     },
     "execution_count": 7,
     "metadata": {},
     "output_type": "execute_result"
    }
   ],
   "source": [
    "params = net.state_dict()\n",
    "params.keys()"
   ]
  },
  {
   "cell_type": "markdown",
   "id": "02d71bd1",
   "metadata": {},
   "source": [
    "### set related layer’s require grads to False (a naive way)\n"
   ]
  },
  {
   "cell_type": "code",
   "execution_count": 8,
   "id": "9acaa4d5",
   "metadata": {},
   "outputs": [
    {
     "data": {
      "text/plain": [
       "'fc1.weight'"
      ]
     },
     "execution_count": 8,
     "metadata": {},
     "output_type": "execute_result"
    }
   ],
   "source": [
    "keys = list(params.keys())\n",
    "keys[0]"
   ]
  },
  {
   "cell_type": "code",
   "execution_count": 9,
   "id": "a214d140",
   "metadata": {},
   "outputs": [
    {
     "name": "stdout",
     "output_type": "stream",
     "text": [
      "Parameter containing:\n",
      "tensor([[-0.2249,  0.5759],\n",
      "        [ 0.4148,  0.4126],\n",
      "        [ 0.3939,  0.3192],\n",
      "        [-0.0072, -0.3396]])\n",
      "Parameter containing:\n",
      "tensor([ 0.4758,  0.2861,  0.6777, -0.4127], requires_grad=True)\n",
      "Parameter containing:\n",
      "tensor([[-0.1068, -0.0981,  0.1543,  0.3864],\n",
      "        [ 0.1319, -0.2243, -0.0253,  0.3030],\n",
      "        [ 0.4892, -0.2366, -0.3212, -0.4371]], requires_grad=True)\n",
      "Parameter containing:\n",
      "tensor([ 0.0378, -0.4122,  0.3049], requires_grad=True)\n",
      "Parameter containing:\n",
      "tensor([[-0.5143,  0.2256,  0.0253]], requires_grad=True)\n",
      "Parameter containing:\n",
      "tensor([-0.4425], requires_grad=True)\n"
     ]
    }
   ],
   "source": [
    "net.fc1.weight.requires_grad = False\n",
    "\n",
    "for para in net.parameters():\n",
    "    print(para)"
   ]
  },
  {
   "cell_type": "markdown",
   "id": "ad9d0c4d",
   "metadata": {},
   "source": [
    "### A better way"
   ]
  },
  {
   "cell_type": "code",
   "execution_count": 10,
   "id": "74dde2d2",
   "metadata": {},
   "outputs": [
    {
     "name": "stdout",
     "output_type": "stream",
     "text": [
      "fc1.weight\n",
      "fc1.bias\n",
      "fc2.weight\n",
      "fc2.bias\n",
      "out.weight\n",
      "out.bias\n"
     ]
    }
   ],
   "source": [
    "net.fc1.weight.requires_grad = True\n",
    "\n",
    "for name, param in net.named_parameters():\n",
    "    if param.requires_grad:\n",
    "        print(name)"
   ]
  },
  {
   "cell_type": "markdown",
   "id": "c0f05711",
   "metadata": {},
   "source": [
    "Then we can filter out and control the requires\\_grad by filtering through the parameter names"
   ]
  },
  {
   "cell_type": "code",
   "execution_count": 14,
   "id": "381b288c",
   "metadata": {},
   "outputs": [],
   "source": [
    "\"\"\"\n",
    "param.requires_grad = True whenever we can use a derivative\n",
    "\"\"\"\n",
    "for name, param in net.named_parameters():\n",
    "    if param.requires_grad and 'fc1' in name:\n",
    "        param.requires_grad = False"
   ]
  },
  {
   "cell_type": "code",
   "execution_count": null,
   "id": "1d248101",
   "metadata": {},
   "outputs": [],
   "source": []
  },
  {
   "cell_type": "code",
   "execution_count": 15,
   "id": "bfb535c6",
   "metadata": {},
   "outputs": [
    {
     "name": "stdout",
     "output_type": "stream",
     "text": [
      "fc1.weight Parameter containing:\n",
      "tensor([[-0.2249,  0.5759],\n",
      "        [ 0.4148,  0.4126],\n",
      "        [ 0.3939,  0.3192],\n",
      "        [-0.0072, -0.3396]])\n",
      "fc1.bias Parameter containing:\n",
      "tensor([ 0.4758,  0.2861,  0.6777, -0.4127])\n",
      "fc2.weight Parameter containing:\n",
      "tensor([[-0.1068, -0.0981,  0.1543,  0.3864],\n",
      "        [ 0.1319, -0.2243, -0.0253,  0.3030],\n",
      "        [ 0.4892, -0.2366, -0.3212, -0.4371]], requires_grad=True)\n",
      "fc2.bias Parameter containing:\n",
      "tensor([ 0.0378, -0.4122,  0.3049], requires_grad=True)\n",
      "out.weight Parameter containing:\n",
      "tensor([[-0.5143,  0.2256,  0.0253]], requires_grad=True)\n",
      "out.bias Parameter containing:\n",
      "tensor([-0.4425], requires_grad=True)\n"
     ]
    }
   ],
   "source": [
    "for name, param in net.named_parameters():\n",
    "    print(name, param)"
   ]
  },
  {
   "cell_type": "markdown",
   "id": "3a66329f",
   "metadata": {},
   "source": [
    "### Last one more step\n",
    "\n",
    "We haven’t done yet as even the required grad is set to False, we still can update the weights\n"
   ]
  },
  {
   "cell_type": "code",
   "execution_count": 16,
   "id": "6b777998",
   "metadata": {},
   "outputs": [
    {
     "name": "stdout",
     "output_type": "stream",
     "text": [
      "fc1.weight Parameter containing:\n",
      "tensor([[-0.2024,  0.5183],\n",
      "        [ 0.3733,  0.3713],\n",
      "        [ 0.3545,  0.2873],\n",
      "        [-0.0064, -0.3056]])\n",
      "fc1.bias Parameter containing:\n",
      "tensor([ 0.4758,  0.2861,  0.6777, -0.4127])\n",
      "fc2.weight Parameter containing:\n",
      "tensor([[-0.1068, -0.0981,  0.1543,  0.3864],\n",
      "        [ 0.1319, -0.2243, -0.0253,  0.3030],\n",
      "        [ 0.4892, -0.2366, -0.3212, -0.4371]], requires_grad=True)\n",
      "fc2.bias Parameter containing:\n",
      "tensor([ 0.0378, -0.4122,  0.3049], requires_grad=True)\n",
      "out.weight Parameter containing:\n",
      "tensor([[-0.5143,  0.2256,  0.0253]], requires_grad=True)\n",
      "out.bias Parameter containing:\n",
      "tensor([-0.4425], requires_grad=True)\n"
     ]
    }
   ],
   "source": [
    "net.fc1.weight -= 0.1*net.fc1.weight\n",
    "\n",
    "for name, param in net.named_parameters():\n",
    "    print(name, param)"
   ]
  },
  {
   "cell_type": "markdown",
   "id": "bc270752",
   "metadata": {},
   "source": [
    "So we should filter the parameters to only those requires_grad ones by using this code"
   ]
  },
  {
   "cell_type": "code",
   "execution_count": 18,
   "id": "3d8d1e28",
   "metadata": {},
   "outputs": [
    {
     "name": "stdout",
     "output_type": "stream",
     "text": [
      "Parameter containing:\n",
      "tensor([[-0.1068, -0.0981,  0.1543,  0.3864],\n",
      "        [ 0.1319, -0.2243, -0.0253,  0.3030],\n",
      "        [ 0.4892, -0.2366, -0.3212, -0.4371]], requires_grad=True)\n",
      "Parameter containing:\n",
      "tensor([ 0.0378, -0.4122,  0.3049], requires_grad=True)\n",
      "Parameter containing:\n",
      "tensor([[-0.5143,  0.2256,  0.0253]], requires_grad=True)\n",
      "Parameter containing:\n",
      "tensor([-0.4425], requires_grad=True)\n"
     ]
    }
   ],
   "source": [
    "optimizer = optim.SGD(filter(lambda p: p.requires_grad, net.parameters()), lr=0.1)\n",
    "\n",
    "for p in filter(lambda p: p.requires_grad, net.parameters()):\n",
    "    print(p)\n"
   ]
  },
  {
   "cell_type": "code",
   "execution_count": null,
   "id": "4656905c",
   "metadata": {},
   "outputs": [],
   "source": []
  },
  {
   "cell_type": "code",
   "execution_count": null,
   "id": "8f493b21",
   "metadata": {},
   "outputs": [],
   "source": []
  },
  {
   "cell_type": "code",
   "execution_count": null,
   "id": "e5f330f7",
   "metadata": {},
   "outputs": [],
   "source": []
  },
  {
   "cell_type": "code",
   "execution_count": null,
   "id": "acab1cee",
   "metadata": {},
   "outputs": [],
   "source": []
  }
 ],
 "metadata": {
  "kernelspec": {
   "display_name": "Python 3 (ipykernel)",
   "language": "python",
   "name": "python3"
  },
  "language_info": {
   "codemirror_mode": {
    "name": "ipython",
    "version": 3
   },
   "file_extension": ".py",
   "mimetype": "text/x-python",
   "name": "python",
   "nbconvert_exporter": "python",
   "pygments_lexer": "ipython3",
   "version": "3.8.8"
  }
 },
 "nbformat": 4,
 "nbformat_minor": 5
}
